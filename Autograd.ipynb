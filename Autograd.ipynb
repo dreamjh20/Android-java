{
  "nbformat": 4,
  "nbformat_minor": 0,
  "metadata": {
    "colab": {
      "name": "Autograd",
      "provenance": [],
      "authorship_tag": "ABX9TyMWPZrU9/miVaIuv7Jcktkz",
      "include_colab_link": true
    },
    "kernelspec": {
      "name": "python3",
      "display_name": "Python 3"
    },
    "accelerator": "GPU"
  },
  "cells": [
    {
      "cell_type": "markdown",
      "metadata": {
        "id": "view-in-github",
        "colab_type": "text"
      },
      "source": [
        "<a href=\"https://colab.research.google.com/github/dreamjh20/Android-java/blob/master/Autograd.ipynb\" target=\"_parent\"><img src=\"https://colab.research.google.com/assets/colab-badge.svg\" alt=\"Open In Colab\"/></a>"
      ]
    },
    {
      "cell_type": "code",
      "metadata": {
        "id": "9wteXL3LR03T"
      },
      "source": [
        "import torch\r\n",
        "import numpy as np\r\n",
        "\r\n",
        "if torch.cuda.is_available( ):\r\n",
        "    DEVICE = torch.device('cuda')\r\n",
        "else:\r\n",
        "    DEVICE = torch.device('cpu')"
      ],
      "execution_count": 1,
      "outputs": []
    },
    {
      "cell_type": "code",
      "metadata": {
        "id": "n5jf8cYebk7t"
      },
      "source": [
        "BATCH_SIZE = 64\r\n",
        "INPUT_SIZE = 1000\r\n",
        "HIDDEN_SIZE = 100\r\n",
        "OUTPUT_SIZE = 10"
      ],
      "execution_count": 2,
      "outputs": []
    },
    {
      "cell_type": "code",
      "metadata": {
        "id": "ku4OZLzPlYLp"
      },
      "source": [
        "x = torch.randn(BATCH_SIZE,\r\n",
        "                INPUT_SIZE,\r\n",
        "                device = DEVICE,\r\n",
        "                dtype = torch.float,\r\n",
        "                requires_grad = False)"
      ],
      "execution_count": 7,
      "outputs": []
    },
    {
      "cell_type": "code",
      "metadata": {
        "id": "dvzr8jW-HI3e"
      },
      "source": [
        ""
      ],
      "execution_count": null,
      "outputs": []
    }
  ]
}